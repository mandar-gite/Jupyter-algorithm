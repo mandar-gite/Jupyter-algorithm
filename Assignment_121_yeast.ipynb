{
  "cells": [
    {
      "cell_type": "markdown",
      "metadata": {
        "id": "view-in-github",
        "colab_type": "text"
      },
      "source": [
        "<a href=\"https://colab.research.google.com/github/mandar-gite/Jupyter-algorithm/blob/master/Assignment_121_yeast.ipynb\" target=\"_parent\"><img src=\"https://colab.research.google.com/assets/colab-badge.svg\" alt=\"Open In Colab\"/></a>"
      ]
    },
    {
      "cell_type": "markdown",
      "metadata": {
        "id": "F9GfjRgnhmcY"
      },
      "source": [
        "\n",
        "<center>\n",
        "    <img src=\"https://www.bits-pilani.ac.in/Uploads/Campus/BITS_university_logo.gif\" alt=\"Institute Logo\">\n",
        "</center>\n",
        "\n",
        "<center><h1><b>Work Integrated Learning Programmes Division M.Tech(AIML)</b></h1></center>\n",
        "<center><h2><b>Machine Learning</b></h2></center>\n",
        "<center><h3><b>S2-22_AIMLCZG565</b></h3></center>\n",
        "<center><h4><b>Assignment 1 – PS-3</b></h4></center>"
      ]
    },
    {
      "cell_type": "markdown",
      "metadata": {
        "id": "JL7m__iohmcb"
      },
      "source": [
        " ## Group No 121\n",
        "\n",
        "### **Group Members:**\n",
        "\n",
        "- Mandar Gite - 60%\n",
        "- Roshni Ghosh - 40%\n",
        "- Avishek Ghosh - 0% (No contributions in the assignment)\n",
        "\n",
        "### **DATASET: YEAST**\n"
      ]
    },
    {
      "cell_type": "markdown",
      "metadata": {
        "id": "ib2DHvwGhmcb"
      },
      "source": [
        "<h3>SECTION 1: Import Libararies / Dataset</h3>"
      ]
    },
    {
      "cell_type": "markdown",
      "metadata": {
        "id": "s2PzWJB4hmcc"
      },
      "source": [
        "### <font style=\"color: teal;\"><h3>Import Liabraries</h3></font>\n"
      ]
    },
    {
      "cell_type": "code",
      "source": [
        "# Upgrade pip package manager\n",
        "!pip install --upgrade pip\n"
      ],
      "metadata": {
        "colab": {
          "base_uri": "https://localhost:8080/"
        },
        "id": "siDFohQYkbgA",
        "outputId": "db87e772-f0e4-4dc2-8e41-d76a8025de9a"
      },
      "execution_count": null,
      "outputs": [
        {
          "output_type": "stream",
          "name": "stdout",
          "text": [
            "Requirement already satisfied: pip in /usr/local/lib/python3.10/dist-packages (23.1.2)\n"
          ]
        }
      ]
    },
    {
      "cell_type": "code",
      "source": [
        "!pip install -U scikit-learn\n",
        "!pip install imbalanced-learn"
      ],
      "metadata": {
        "colab": {
          "base_uri": "https://localhost:8080/"
        },
        "id": "0lbtR8NNd6NQ",
        "outputId": "8c4ec13a-8bd5-4319-d1a3-8949c4549fc3"
      },
      "execution_count": null,
      "outputs": [
        {
          "output_type": "stream",
          "name": "stdout",
          "text": [
            "Requirement already satisfied: scikit-learn in /usr/local/lib/python3.10/dist-packages (1.3.0)\n",
            "Requirement already satisfied: numpy>=1.17.3 in /usr/local/lib/python3.10/dist-packages (from scikit-learn) (1.22.4)\n",
            "Requirement already satisfied: scipy>=1.5.0 in /usr/local/lib/python3.10/dist-packages (from scikit-learn) (1.10.1)\n",
            "Requirement already satisfied: joblib>=1.1.1 in /usr/local/lib/python3.10/dist-packages (from scikit-learn) (1.2.0)\n",
            "Requirement already satisfied: threadpoolctl>=2.0.0 in /usr/local/lib/python3.10/dist-packages (from scikit-learn) (3.1.0)\n",
            "Requirement already satisfied: imbalanced-learn in /usr/local/lib/python3.10/dist-packages (0.10.1)\n",
            "Requirement already satisfied: numpy>=1.17.3 in /usr/local/lib/python3.10/dist-packages (from imbalanced-learn) (1.22.4)\n",
            "Requirement already satisfied: scipy>=1.3.2 in /usr/local/lib/python3.10/dist-packages (from imbalanced-learn) (1.10.1)\n",
            "Requirement already satisfied: scikit-learn>=1.0.2 in /usr/local/lib/python3.10/dist-packages (from imbalanced-learn) (1.3.0)\n",
            "Requirement already satisfied: joblib>=1.1.1 in /usr/local/lib/python3.10/dist-packages (from imbalanced-learn) (1.2.0)\n",
            "Requirement already satisfied: threadpoolctl>=2.0.0 in /usr/local/lib/python3.10/dist-packages (from imbalanced-learn) (3.1.0)\n"
          ]
        }
      ]
    },
    {
      "cell_type": "code",
      "source": [
        "\n",
        "!pip install imbalanced-learn==0.8.0\n",
        "\n"
      ],
      "metadata": {
        "colab": {
          "base_uri": "https://localhost:8080/"
        },
        "id": "DyW0FdkyAyjd",
        "outputId": "ead76032-b413-4b27-c1c9-15576b73296f"
      },
      "execution_count": null,
      "outputs": [
        {
          "output_type": "stream",
          "name": "stdout",
          "text": [
            "Collecting imbalanced-learn==0.8.0\n",
            "  Downloading imbalanced_learn-0.8.0-py3-none-any.whl (206 kB)\n",
            "\u001b[?25l     \u001b[90m━━━━━━━━━━━━━━━━━━━━━━━━━━━━━━━━━━━━━━━━\u001b[0m \u001b[32m0.0/206.5 kB\u001b[0m \u001b[31m?\u001b[0m eta \u001b[36m-:--:--\u001b[0m\r\u001b[2K     \u001b[90m━━━━━━━━━━━━━━━━━━━━━━━━━━━━━━━━━━━━━━━\u001b[0m \u001b[32m206.5/206.5 kB\u001b[0m \u001b[31m7.0 MB/s\u001b[0m eta \u001b[36m0:00:00\u001b[0m\n",
            "\u001b[?25hRequirement already satisfied: numpy>=1.13.3 in /usr/local/lib/python3.10/dist-packages (from imbalanced-learn==0.8.0) (1.22.4)\n",
            "Requirement already satisfied: scipy>=0.19.1 in /usr/local/lib/python3.10/dist-packages (from imbalanced-learn==0.8.0) (1.10.1)\n",
            "Requirement already satisfied: scikit-learn>=0.24 in /usr/local/lib/python3.10/dist-packages (from imbalanced-learn==0.8.0) (1.3.0)\n",
            "Requirement already satisfied: joblib>=0.11 in /usr/local/lib/python3.10/dist-packages (from imbalanced-learn==0.8.0) (1.2.0)\n",
            "Requirement already satisfied: threadpoolctl>=2.0.0 in /usr/local/lib/python3.10/dist-packages (from scikit-learn>=0.24->imbalanced-learn==0.8.0) (3.1.0)\n",
            "Installing collected packages: imbalanced-learn\n",
            "  Attempting uninstall: imbalanced-learn\n",
            "    Found existing installation: imbalanced-learn 0.10.1\n",
            "    Uninstalling imbalanced-learn-0.10.1:\n",
            "      Successfully uninstalled imbalanced-learn-0.10.1\n",
            "Successfully installed imbalanced-learn-0.8.0\n"
          ]
        }
      ]
    },
    {
      "cell_type": "code",
      "execution_count": null,
      "metadata": {
        "id": "olog1-_Zhmcc"
      },
      "outputs": [],
      "source": [
        "#Liabraries for data handling\n",
        "import numpy as np  # Import the NumPy library for numerical computations\n",
        "import pandas as pd  # Import the Pandas library for data manipulation and analysis\n",
        "import matplotlib.pyplot as plt  # Import the Matplotlib library for data visualization\n",
        "import seaborn as sns  # Import the Seaborn library for statistical visualization\n",
        "import gdown # Import the gdown libarary to import the dataset from Google Drive\n",
        "\n",
        "\n",
        "#Liabraries for data prep\n",
        "\n",
        "from imblearn.over_sampling import SMOTE\n",
        "from imblearn.under_sampling import RandomUnderSampler\n",
        "from imblearn.combine import SMOTEENN\n",
        "from sklearn.preprocessing import label_binarize\n",
        "\n",
        "#liabraries for regression\n",
        "from sklearn.linear_model import LogisticRegression\n",
        "from sklearn.model_selection import cross_val_score\n",
        "from sklearn.model_selection import train_test_split\n",
        "\n",
        "\n",
        "#liabraries for performance evalauation\n",
        "from sklearn.metrics import roc_curve, roc_auc_score\n",
        "from sklearn.metrics import confusion_matrix,classification_report\n",
        "\n"
      ]
    },
    {
      "cell_type": "markdown",
      "source": [
        "### <font><h3> Downlaod Dataset</h3></font>"
      ],
      "metadata": {
        "id": "BlaY5yn6mpaW"
      }
    },
    {
      "cell_type": "code",
      "source": [
        "\n",
        "# Define the URL of the CSV file in  Google Drive\n",
        "url = 'https://drive.google.com/uc?id=13e--QYXVbTUed650YYF3mRKnnivdUakE'\n",
        "\n",
        "# Download the file using gdown\n",
        "gdown.download(url, 'data.csv')\n",
        "\n",
        "#'https://drive.google.com/file/d/13e--QYXVbTUed650YYF3mRKnnivdUakE/view?usp=sharing'"
      ],
      "metadata": {
        "colab": {
          "base_uri": "https://localhost:8080/",
          "height": 105
        },
        "id": "Ou6LLQYMXsT7",
        "outputId": "8b8baf89-21ba-4a23-d6cc-7dc300a24037"
      },
      "execution_count": null,
      "outputs": [
        {
          "output_type": "stream",
          "name": "stderr",
          "text": [
            "Downloading...\n",
            "From: https://drive.google.com/uc?id=13e--QYXVbTUed650YYF3mRKnnivdUakE\n",
            "To: /content/data.csv\n",
            "100%|██████████| 60.1k/60.1k [00:00<00:00, 8.98MB/s]\n"
          ]
        },
        {
          "output_type": "execute_result",
          "data": {
            "text/plain": [
              "'data.csv'"
            ],
            "application/vnd.google.colaboratory.intrinsic+json": {
              "type": "string"
            }
          },
          "metadata": {},
          "execution_count": 17
        }
      ]
    },
    {
      "cell_type": "markdown",
      "metadata": {
        "id": "vdEYWvlLhmce"
      },
      "source": [
        "### <font style=\"color: teal;\"><h3>Import DataSet</h3></font>"
      ]
    },
    {
      "cell_type": "code",
      "source": [
        "# Importing the dataset\n",
        "df = pd.read_csv(\"data.csv\")\n"
      ],
      "metadata": {
        "id": "nOaRkspgQYWv"
      },
      "execution_count": null,
      "outputs": []
    },
    {
      "cell_type": "markdown",
      "metadata": {
        "id": "_G604hv7hmce"
      },
      "source": [
        "### <h3>Data Visualization and Exploration</h3>"
      ]
    },
    {
      "cell_type": "code",
      "source": [
        "df.shape"
      ],
      "metadata": {
        "colab": {
          "base_uri": "https://localhost:8080/"
        },
        "id": "yutMlUt0QICb",
        "outputId": "53e2aaf7-7e56-4de9-d3d6-2aef6a4d6aec"
      },
      "execution_count": null,
      "outputs": [
        {
          "output_type": "execute_result",
          "data": {
            "text/plain": [
              "(1484, 9)"
            ]
          },
          "metadata": {},
          "execution_count": 19
        }
      ]
    },
    {
      "cell_type": "code",
      "execution_count": null,
      "metadata": {
        "id": "x9yNgXxZhmcf",
        "outputId": "fd70a2bc-bfd4-43d7-f365-0c82fa0af136",
        "colab": {
          "base_uri": "https://localhost:8080/",
          "height": 206
        }
      },
      "outputs": [
        {
          "output_type": "execute_result",
          "data": {
            "text/plain": [
              "    mcg   gvh   alm   mit  erl  pox   vac   nuc name\n",
              "0  0.58  0.61  0.47  0.13  0.5  0.0  0.48  0.22  MIT\n",
              "1  0.43  0.67  0.48  0.27  0.5  0.0  0.53  0.22  MIT\n",
              "2  0.64  0.62  0.49  0.15  0.5  0.0  0.53  0.22  MIT\n",
              "3  0.58  0.44  0.57  0.13  0.5  0.0  0.54  0.22  NUC\n",
              "4  0.42  0.44  0.48  0.54  0.5  0.0  0.48  0.22  MIT"
            ],
            "text/html": [
              "\n",
              "  <div id=\"df-9415a151-64f1-4cee-b0c1-17ed89b5706a\">\n",
              "    <div class=\"colab-df-container\">\n",
              "      <div>\n",
              "<style scoped>\n",
              "    .dataframe tbody tr th:only-of-type {\n",
              "        vertical-align: middle;\n",
              "    }\n",
              "\n",
              "    .dataframe tbody tr th {\n",
              "        vertical-align: top;\n",
              "    }\n",
              "\n",
              "    .dataframe thead th {\n",
              "        text-align: right;\n",
              "    }\n",
              "</style>\n",
              "<table border=\"1\" class=\"dataframe\">\n",
              "  <thead>\n",
              "    <tr style=\"text-align: right;\">\n",
              "      <th></th>\n",
              "      <th>mcg</th>\n",
              "      <th>gvh</th>\n",
              "      <th>alm</th>\n",
              "      <th>mit</th>\n",
              "      <th>erl</th>\n",
              "      <th>pox</th>\n",
              "      <th>vac</th>\n",
              "      <th>nuc</th>\n",
              "      <th>name</th>\n",
              "    </tr>\n",
              "  </thead>\n",
              "  <tbody>\n",
              "    <tr>\n",
              "      <th>0</th>\n",
              "      <td>0.58</td>\n",
              "      <td>0.61</td>\n",
              "      <td>0.47</td>\n",
              "      <td>0.13</td>\n",
              "      <td>0.5</td>\n",
              "      <td>0.0</td>\n",
              "      <td>0.48</td>\n",
              "      <td>0.22</td>\n",
              "      <td>MIT</td>\n",
              "    </tr>\n",
              "    <tr>\n",
              "      <th>1</th>\n",
              "      <td>0.43</td>\n",
              "      <td>0.67</td>\n",
              "      <td>0.48</td>\n",
              "      <td>0.27</td>\n",
              "      <td>0.5</td>\n",
              "      <td>0.0</td>\n",
              "      <td>0.53</td>\n",
              "      <td>0.22</td>\n",
              "      <td>MIT</td>\n",
              "    </tr>\n",
              "    <tr>\n",
              "      <th>2</th>\n",
              "      <td>0.64</td>\n",
              "      <td>0.62</td>\n",
              "      <td>0.49</td>\n",
              "      <td>0.15</td>\n",
              "      <td>0.5</td>\n",
              "      <td>0.0</td>\n",
              "      <td>0.53</td>\n",
              "      <td>0.22</td>\n",
              "      <td>MIT</td>\n",
              "    </tr>\n",
              "    <tr>\n",
              "      <th>3</th>\n",
              "      <td>0.58</td>\n",
              "      <td>0.44</td>\n",
              "      <td>0.57</td>\n",
              "      <td>0.13</td>\n",
              "      <td>0.5</td>\n",
              "      <td>0.0</td>\n",
              "      <td>0.54</td>\n",
              "      <td>0.22</td>\n",
              "      <td>NUC</td>\n",
              "    </tr>\n",
              "    <tr>\n",
              "      <th>4</th>\n",
              "      <td>0.42</td>\n",
              "      <td>0.44</td>\n",
              "      <td>0.48</td>\n",
              "      <td>0.54</td>\n",
              "      <td>0.5</td>\n",
              "      <td>0.0</td>\n",
              "      <td>0.48</td>\n",
              "      <td>0.22</td>\n",
              "      <td>MIT</td>\n",
              "    </tr>\n",
              "  </tbody>\n",
              "</table>\n",
              "</div>\n",
              "      <button class=\"colab-df-convert\" onclick=\"convertToInteractive('df-9415a151-64f1-4cee-b0c1-17ed89b5706a')\"\n",
              "              title=\"Convert this dataframe to an interactive table.\"\n",
              "              style=\"display:none;\">\n",
              "        \n",
              "  <svg xmlns=\"http://www.w3.org/2000/svg\" height=\"24px\"viewBox=\"0 0 24 24\"\n",
              "       width=\"24px\">\n",
              "    <path d=\"M0 0h24v24H0V0z\" fill=\"none\"/>\n",
              "    <path d=\"M18.56 5.44l.94 2.06.94-2.06 2.06-.94-2.06-.94-.94-2.06-.94 2.06-2.06.94zm-11 1L8.5 8.5l.94-2.06 2.06-.94-2.06-.94L8.5 2.5l-.94 2.06-2.06.94zm10 10l.94 2.06.94-2.06 2.06-.94-2.06-.94-.94-2.06-.94 2.06-2.06.94z\"/><path d=\"M17.41 7.96l-1.37-1.37c-.4-.4-.92-.59-1.43-.59-.52 0-1.04.2-1.43.59L10.3 9.45l-7.72 7.72c-.78.78-.78 2.05 0 2.83L4 21.41c.39.39.9.59 1.41.59.51 0 1.02-.2 1.41-.59l7.78-7.78 2.81-2.81c.8-.78.8-2.07 0-2.86zM5.41 20L4 18.59l7.72-7.72 1.47 1.35L5.41 20z\"/>\n",
              "  </svg>\n",
              "      </button>\n",
              "      \n",
              "  <style>\n",
              "    .colab-df-container {\n",
              "      display:flex;\n",
              "      flex-wrap:wrap;\n",
              "      gap: 12px;\n",
              "    }\n",
              "\n",
              "    .colab-df-convert {\n",
              "      background-color: #E8F0FE;\n",
              "      border: none;\n",
              "      border-radius: 50%;\n",
              "      cursor: pointer;\n",
              "      display: none;\n",
              "      fill: #1967D2;\n",
              "      height: 32px;\n",
              "      padding: 0 0 0 0;\n",
              "      width: 32px;\n",
              "    }\n",
              "\n",
              "    .colab-df-convert:hover {\n",
              "      background-color: #E2EBFA;\n",
              "      box-shadow: 0px 1px 2px rgba(60, 64, 67, 0.3), 0px 1px 3px 1px rgba(60, 64, 67, 0.15);\n",
              "      fill: #174EA6;\n",
              "    }\n",
              "\n",
              "    [theme=dark] .colab-df-convert {\n",
              "      background-color: #3B4455;\n",
              "      fill: #D2E3FC;\n",
              "    }\n",
              "\n",
              "    [theme=dark] .colab-df-convert:hover {\n",
              "      background-color: #434B5C;\n",
              "      box-shadow: 0px 1px 3px 1px rgba(0, 0, 0, 0.15);\n",
              "      filter: drop-shadow(0px 1px 2px rgba(0, 0, 0, 0.3));\n",
              "      fill: #FFFFFF;\n",
              "    }\n",
              "  </style>\n",
              "\n",
              "      <script>\n",
              "        const buttonEl =\n",
              "          document.querySelector('#df-9415a151-64f1-4cee-b0c1-17ed89b5706a button.colab-df-convert');\n",
              "        buttonEl.style.display =\n",
              "          google.colab.kernel.accessAllowed ? 'block' : 'none';\n",
              "\n",
              "        async function convertToInteractive(key) {\n",
              "          const element = document.querySelector('#df-9415a151-64f1-4cee-b0c1-17ed89b5706a');\n",
              "          const dataTable =\n",
              "            await google.colab.kernel.invokeFunction('convertToInteractive',\n",
              "                                                     [key], {});\n",
              "          if (!dataTable) return;\n",
              "\n",
              "          const docLinkHtml = 'Like what you see? Visit the ' +\n",
              "            '<a target=\"_blank\" href=https://colab.research.google.com/notebooks/data_table.ipynb>data table notebook</a>'\n",
              "            + ' to learn more about interactive tables.';\n",
              "          element.innerHTML = '';\n",
              "          dataTable['output_type'] = 'display_data';\n",
              "          await google.colab.output.renderOutput(dataTable, element);\n",
              "          const docLink = document.createElement('div');\n",
              "          docLink.innerHTML = docLinkHtml;\n",
              "          element.appendChild(docLink);\n",
              "        }\n",
              "      </script>\n",
              "    </div>\n",
              "  </div>\n",
              "  "
            ]
          },
          "metadata": {},
          "execution_count": 20
        }
      ],
      "source": [
        "df.head(5)"
      ]
    },
    {
      "cell_type": "code",
      "source": [
        "df.info()"
      ],
      "metadata": {
        "colab": {
          "base_uri": "https://localhost:8080/"
        },
        "id": "ZDrauPJmQHHz",
        "outputId": "def253ad-292d-47d0-d93f-969fbafa370c"
      },
      "execution_count": null,
      "outputs": [
        {
          "output_type": "stream",
          "name": "stdout",
          "text": [
            "<class 'pandas.core.frame.DataFrame'>\n",
            "RangeIndex: 1484 entries, 0 to 1483\n",
            "Data columns (total 9 columns):\n",
            " #   Column  Non-Null Count  Dtype  \n",
            "---  ------  --------------  -----  \n",
            " 0   mcg     1484 non-null   float64\n",
            " 1   gvh     1484 non-null   float64\n",
            " 2   alm     1484 non-null   float64\n",
            " 3   mit     1484 non-null   float64\n",
            " 4   erl     1484 non-null   float64\n",
            " 5   pox     1484 non-null   float64\n",
            " 6   vac     1484 non-null   float64\n",
            " 7   nuc     1484 non-null   float64\n",
            " 8   name    1484 non-null   object \n",
            "dtypes: float64(8), object(1)\n",
            "memory usage: 104.5+ KB\n"
          ]
        }
      ]
    },
    {
      "cell_type": "code",
      "source": [
        "df.columns\n"
      ],
      "metadata": {
        "colab": {
          "base_uri": "https://localhost:8080/"
        },
        "id": "9qEZHjGBpR2b",
        "outputId": "f88aada5-3d6a-4f97-b205-e42cf3b139b4"
      },
      "execution_count": null,
      "outputs": [
        {
          "output_type": "execute_result",
          "data": {
            "text/plain": [
              "Index(['mcg', 'gvh', 'alm', 'mit', 'erl', 'pox', 'vac', 'nuc', 'name'], dtype='object')"
            ]
          },
          "metadata": {},
          "execution_count": 22
        }
      ]
    },
    {
      "cell_type": "code",
      "source": [
        "print(df.describe())\n",
        "name_counts = df['name'].value_counts()\n",
        "\n",
        "print(name_counts)"
      ],
      "metadata": {
        "colab": {
          "base_uri": "https://localhost:8080/"
        },
        "id": "1dF8XBmGcb5k",
        "outputId": "386e4613-6089-4ae1-b49c-4bb3a5b244d0"
      },
      "execution_count": null,
      "outputs": [
        {
          "output_type": "stream",
          "name": "stdout",
          "text": [
            "               mcg          gvh          alm          mit          erl  \\\n",
            "count  1484.000000  1484.000000  1484.000000  1484.000000  1484.000000   \n",
            "mean      0.500121     0.499933     0.500034     0.261186     0.504717   \n",
            "std       0.137299     0.123924     0.086670     0.137098     0.048351   \n",
            "min       0.110000     0.130000     0.210000     0.000000     0.500000   \n",
            "25%       0.410000     0.420000     0.460000     0.170000     0.500000   \n",
            "50%       0.490000     0.490000     0.510000     0.220000     0.500000   \n",
            "75%       0.580000     0.570000     0.550000     0.320000     0.500000   \n",
            "max       1.000000     1.000000     1.000000     1.000000     1.000000   \n",
            "\n",
            "               pox          vac          nuc  \n",
            "count  1484.000000  1484.000000  1484.000000  \n",
            "mean      0.007500     0.499885     0.276199  \n",
            "std       0.075683     0.057797     0.106491  \n",
            "min       0.000000     0.000000     0.000000  \n",
            "25%       0.000000     0.480000     0.220000  \n",
            "50%       0.000000     0.510000     0.220000  \n",
            "75%       0.000000     0.530000     0.300000  \n",
            "max       0.830000     0.730000     1.000000  \n",
            "CYT    463\n",
            "NUC    429\n",
            "MIT    244\n",
            "ME3    163\n",
            "ME2     51\n",
            "ME1     44\n",
            "EXC     35\n",
            "VAC     30\n",
            "POX     20\n",
            "ERL      5\n",
            "Name: name, dtype: int64\n"
          ]
        }
      ]
    },
    {
      "cell_type": "code",
      "execution_count": null,
      "metadata": {
        "id": "D29uiCF2hmcf",
        "outputId": "1f733847-c4e8-445f-8c29-ad1e73a744e0",
        "colab": {
          "base_uri": "https://localhost:8080/"
        }
      },
      "outputs": [
        {
          "output_type": "stream",
          "name": "stdout",
          "text": [
            "No missing values.\n",
            "No Not Available values.\n",
            "-----------------------------------\n",
            "Number of duplicate rows: 31\n"
          ]
        }
      ],
      "source": [
        "#@title Check Missing / NA rows  and Duplicate Rows\n",
        "# Check for missing values\n",
        "missing_values = df.isnull().sum()\n",
        "\n",
        "if missing_values.sum() == 0:\n",
        "    print(\"No missing values.\")\n",
        "else:\n",
        "    print(\"Missing values per column:\")\n",
        "    print(missing_values)\n",
        "\n",
        "# Check for Not available / #NA values\n",
        "NA_values = df.isna().sum()\n",
        "\n",
        "if NA_values.sum() == 0:\n",
        "    print(\"No Not Available values.\")\n",
        "else:\n",
        "    print(\"-----------------------------------\")\n",
        "    print(\"Not Available values per column:\")\n",
        "    print(NA_values)\n",
        "\n",
        "# Check for duplicate values\n",
        "duplicate_count = df.duplicated().sum()\n",
        "\n",
        "if duplicate_count == 0:\n",
        "    print(\"No duplicate rows.\")\n",
        "else:\n",
        "    print(\"-----------------------------------\")\n",
        "    print(\"Number of duplicate rows:\", duplicate_count)\n"
      ]
    },
    {
      "cell_type": "markdown",
      "metadata": {
        "id": "7aBKP-Exhmch"
      },
      "source": [
        "#### Observation:\n",
        "1. All values are present in all columns.\n",
        "3. 31 rows are duplicate."
      ]
    },
    {
      "cell_type": "code",
      "execution_count": null,
      "metadata": {
        "id": "oeV7qzCghmci",
        "outputId": "599a2fe4-e344-4c09-ecb8-8ccf72de0915",
        "colab": {
          "base_uri": "https://localhost:8080/"
        }
      },
      "outputs": [
        {
          "output_type": "stream",
          "name": "stdout",
          "text": [
            "There are 10 names as follows: \n",
            " ['MIT' 'NUC' 'CYT' 'ME1' 'EXC' 'ME2' 'ME3' 'VAC' 'POX' 'ERL']\n"
          ]
        }
      ],
      "source": [
        "names = df[\"name\"]\n",
        "unique_names = names.unique()\n",
        "\n",
        "print(f\"There are {len(unique_names)} names as follows:\",\"\\n\",unique_names)"
      ]
    },
    {
      "cell_type": "code",
      "execution_count": null,
      "metadata": {
        "id": "2pz3szLjhmci",
        "outputId": "ed6a6091-5aea-4ce0-fe65-8c91216907b0",
        "colab": {
          "base_uri": "https://localhost:8080/",
          "height": 410
        }
      },
      "outputs": [
        {
          "output_type": "display_data",
          "data": {
            "text/plain": [
              "<Figure size 1200x400 with 1 Axes>"
            ],
            "image/png": "[encoded data removed]"
          },
          "metadata": {}
        }
      ],
      "source": [
        "# Calculate class frequencies\n",
        "class_counts = df['name'].value_counts()\n",
        "class_labels = class_counts.index\n",
        "class_frequencies = class_counts.values\n",
        "\n",
        "# Create subplots\n",
        "fig, ax1 = plt.subplots(nrows=1, ncols=1, figsize=(12,4))\n",
        "\n",
        "# Plot the bar plot in the first subplot\n",
        "ax1.bar(class_labels, class_frequencies)\n",
        "ax1.set_xlabel('Class Names')\n",
        "ax1.set_ylabel('Frequency')\n",
        "ax1.set_title('Class Distribution')\n",
        "\n",
        "# Plot the pie chart in the second subplot\n",
        "#ax2.pie(class_frequencies, labels=class_labels, autopct='%1.1f%%')\n",
        "#ax2.set_title('Class Distribution')\n",
        "\n",
        "# Adjust spacing between the subplots\n",
        "#fig.subplots_adjust(hspace=0.2)\n",
        "\n",
        "# Display the plot\n",
        "plt.show()\n",
        "\n",
        "\n",
        "\n",
        "\n",
        "\n"
      ]
    },
    {
      "cell_type": "code",
      "execution_count": null,
      "metadata": {
        "id": "oKEVpQ2Rhmci",
        "outputId": "21e9d976-84d6-48b6-c2bf-7eb4f118a7fe",
        "colab": {
          "base_uri": "https://localhost:8080/",
          "height": 391
        }
      },
      "outputs": [
        {
          "output_type": "display_data",
          "data": {
            "text/plain": [
              "<Figure size 1600x400 with 2 Axes>"
            ],
            "image/png": "[encoded data removed]"
          },
          "metadata": {}
        }
      ],
      "source": [
        "# Calculate the correlation matrix\n",
        "\n",
        "correlation_matrix = df.corr(numeric_only=True)\n",
        "\n",
        "\n",
        "#print(correlation_matrix)\n",
        "# Visualize the correlation matrix\n",
        "plt.figure(figsize=(16, 4))\n",
        "sns.heatmap(correlation_matrix, annot=True, cmap='coolwarm')\n",
        "plt.title('Correlation Matrix')\n",
        "plt.show()\n"
      ]
    },
    {
      "cell_type": "code",
      "source": [
        "\n",
        "from scipy.stats import chi2_contingency\n",
        "\n",
        "features = df.drop('name', axis=1)  # Excluding the target variable 'name'\n",
        "target = df['name']\n",
        "\n",
        "# Iterate over column names and perform chi-square test for each feature\n",
        "for column in features.columns:\n",
        "    contingency_table = pd.crosstab(features[column], target)\n",
        "    chi2_score, p_value, _, _ = chi2_contingency(contingency_table)\n",
        "\n",
        "    print(\"Feature:\", column)\n",
        "    print(\"Chi-square score:\", chi2_score)\n",
        "    print(\"p-value:\", p_value)\n",
        "    print()\n"
      ],
      "metadata": {
        "colab": {
          "base_uri": "https://localhost:8080/"
        },
        "id": "uG9xBEfbBe8K",
        "outputId": "11e04aa6-57fe-4c40-e84a-c7de1207ea5b"
      },
      "execution_count": null,
      "outputs": [
        {
          "output_type": "stream",
          "name": "stdout",
          "text": [
            "Feature: mcg\n",
            "Chi-square score: 2175.632618399791\n",
            "p-value: 6.615260244367256e-146\n",
            "\n",
            "Feature: gvh\n",
            "Chi-square score: 2405.8693444459163\n",
            "p-value: 5.175693859924092e-185\n",
            "\n",
            "Feature: alm\n",
            "Chi-square score: 1432.109844255388\n",
            "p-value: 2.5590276023776682e-98\n",
            "\n",
            "Feature: mit\n",
            "Chi-square score: 1020.7466342316818\n",
            "p-value: 5.687747225402834e-15\n",
            "\n",
            "Feature: erl\n",
            "Chi-square score: 529.6119201689534\n",
            "p-value: 2.6097085132486176e-108\n",
            "\n",
            "Feature: pox\n",
            "Chi-square score: 616.113285386209\n",
            "p-value: 3.3698694110876797e-119\n",
            "\n",
            "Feature: vac\n",
            "Chi-square score: 504.8985506778468\n",
            "p-value: 0.0037398513817815788\n",
            "\n",
            "Feature: nuc\n",
            "Chi-square score: 537.953813899575\n",
            "p-value: 0.9729228930115266\n",
            "\n"
          ]
        }
      ]
    },
    {
      "cell_type": "code",
      "source": [
        "plt.figure(figsize=(21, 6))  # Set the figure size (width, height)\n",
        "sns.boxplot(data=df, orient='h')\n",
        "plt.show()\n"
      ],
      "metadata": {
        "id": "3vWTXpipuTRw",
        "colab": {
          "base_uri": "https://localhost:8080/",
          "height": 465
        },
        "outputId": "fce5f8d0-683b-487c-d05a-1eccabaf8b44"
      },
      "execution_count": null,
      "outputs": [
        {
          "output_type": "display_data",
          "data": {
            "text/plain": [
              "<Figure size 2100x600 with 1 Axes>"
            ],
            "image/png": "[encoded data removed]"
          },
          "metadata": {}
        }
      ]
    },
    {
      "cell_type": "code",
      "source": [
        "df['nuc'].describe()"
      ],
      "metadata": {
        "colab": {
          "base_uri": "https://localhost:8080/"
        },
        "id": "RG_na1byHvED",
        "outputId": "ef58ee0d-76c9-4006-a6cc-578ef7f19242"
      },
      "execution_count": null,
      "outputs": [
        {
          "output_type": "execute_result",
          "data": {
            "text/plain": [
              "count    1484.000000\n",
              "mean        0.276199\n",
              "std         0.106491\n",
              "min         0.000000\n",
              "25%         0.220000\n",
              "50%         0.220000\n",
              "75%         0.300000\n",
              "max         1.000000\n",
              "Name: nuc, dtype: float64"
            ]
          },
          "metadata": {},
          "execution_count": 33
        }
      ]
    },
    {
      "cell_type": "markdown",
      "source": [
        "<h3>Observations from Histogram and Pie chart</h3>\n",
        "\n",
        "\n",
        "1.\tThe dataset is 1482 rows X 9 columns\n",
        "2.\tThe name is to be predicted  and there are 8 featurs,and  31 duplicate rows.  \n",
        "3.\t10 classes under column name which is the  classifier for this dataset.\n",
        "\n",
        "- CYT: The most frequent class with 463 instances.\n",
        "- NUC: The second most frequent class with 429 instances.\n",
        "- MIT: The third most frequent class with 244 instances.\n",
        "- ME3: A moderately represented class with 163 instances.\n",
        "- ME2: A relatively less frequent class with 51 instances.\n",
        "- ME1: A slightly less frequent class with 44 instances.\n",
        "- EXC: A lower frequency class with 35 instances.\n",
        "- VAC: A class with 30 instances, indicating a smaller presence.\n",
        "- POX: A relatively infrequent class with 20 instances.\n",
        "- ERL: The least represented class with only 5 instances.\n",
        "\n",
        "\n",
        "**Class Distribution is too skewed and as such imbalanced.**\n",
        "\n",
        "Possible remidies : Dropinng Least Represented Class  \n",
        "We can explore dropping of rows with name ERL and POX. The implications are :\n",
        "\n",
        "Pros:\n",
        "- Improved model accuracy by removing classes with very few instances.\n",
        "- Resolution of class imbalance by eliminating underrepresented classes.\n",
        "- Simplification of the classification problem by focusing on the remaining classes.\n",
        "\n",
        "Cons:\n",
        "- Loss of information by discarding data points from the POX and ERL classes.\n",
        "- Reduced generalization to unseen instances from the dropped classes.\n",
        "- Potential biases in decision-making due to the absence of these classes.\n",
        "\n",
        "Limitations:\n",
        "- Skewed representation of the remaining classes.\n",
        "- Impact on model performance if the dataset is limited.\n",
        "\n",
        "In summary, **removal of ERL & POX class** may  enhance model accuracy and address class imbalance,without affecting the data avaialibility significantly as we would be **sacrificng only 0.33%  & 1.5% of data** . However , the class may have significant / disproportionate importance  and dropping it may **affect the usability of the model,result in information loss, reduced generalization, and biases.** So we will explore other options to handle the class imbalance such as **oversampling, undersampling and hybrid sampling**\n",
        "\n",
        "\n",
        "<h3>Observations from Correlation's metrics</h3>\n",
        "\n",
        "\n",
        "*   The chi square and p value of features with respect to the target variable name are as follows:\n",
        "\n",
        "<table>\n",
        "  <thead>\n",
        "    <tr>\n",
        "      <th>Feature</th>\n",
        "      <th>Chi-square Score</th>\n",
        "      <th>p-value</th>\n",
        "      <th>Remark</th>\n",
        "    </tr>\n",
        "  </thead>\n",
        "  <tbody>\n",
        "    <tr>\n",
        "      <td>mcg</td>\n",
        "      <td>2175.6326</td>\n",
        "      <td>6.6153e-146</td>\n",
        "      <td>Significant association</td>\n",
        "    </tr>\n",
        "    <tr>\n",
        "      <td>gvh</td>\n",
        "      <td>2405.8693</td>\n",
        "      <td>5.1757e-185</td>\n",
        "      <td>Significant association</td>\n",
        "    </tr>\n",
        "    <tr>\n",
        "      <td>alm</td>\n",
        "      <td>1432.1098</td>\n",
        "      <td>2.5590e-98</td>\n",
        "      <td>Significant association</td>\n",
        "    </tr>\n",
        "    <tr>\n",
        "      <td>mit</td>\n",
        "      <td>1020.7466</td>\n",
        "      <td>5.6877e-15</td>\n",
        "      <td>Significant association</td>\n",
        "    </tr>\n",
        "    <tr>\n",
        "      <td>erl</td>\n",
        "      <td>529.6119</td>\n",
        "      <td>2.6097e-108</td>\n",
        "      <td>Moderate association</td>\n",
        "    </tr>\n",
        "    <tr>\n",
        "      <td>pox</td>\n",
        "      <td>616.1133</td>\n",
        "      <td>3.3699e-119</td>\n",
        "      <td>Moderate association</td>\n",
        "    </tr>\n",
        "    <tr>\n",
        "      <td>vac</td>\n",
        "      <td>504.8986</td>\n",
        "      <td>0.0037</td>\n",
        "      <td>Significant association</td>\n",
        "    </tr>\n",
        "    <tr>\n",
        "      <td>nuc</td>\n",
        "      <td>537.9538</td>\n",
        "      <td>0.9729</td>\n",
        "      <td>No significant association</td>\n",
        "    </tr>\n",
        "  </tbody>\n",
        "</table>\n",
        "\n",
        "Most of the features ('mcg', 'gvh', 'alm', 'mit', 'erl', 'pox', 'vac') exhibit a significant association with the target variable, as indicated by their low p-values. However, the 'nuc' feature does not show a significant association, as its p-value is relatively high. These findings suggest that the 'nuc' feature , on its own , may not provide strong predictive power for the target variable compared to the other features.\n",
        "\n",
        " However, we will be keeping the 'nuc' feature as it could still provide valuable information when combined with other features. Exploring interactions or combinations involving 'nuc' may uncover its contribution to the overall predictive performance.\n",
        "\n",
        "* Feature Selection\n",
        "\n",
        "Considering the correlation of 0.58 between 'mcg' and 'gvh', we have chosen to keep both features in the dataset. The provided data contains 1482 instances, indicating that the **dimensionality curse** is unlikely to occur. Moreover, the expected computation load is expected to be moderate, given the manageable size of the dataset.\n",
        "\n",
        "<h3>Observations Box plot</h3>\n",
        "\n",
        "1. Since all the data in each column ranges from 0 to 1, there may not be a significant benefit in performing standardization. Standardization is typically used when features have different scales or units. When the features are already on the same scale, the relative magnitudes and relationships between them are preserved. Thus, the algorithm is less likely to be affected by differences in feature scales, and the interpretability of the model coefficients or feature importance may not be significantly impacted.\n",
        "\n",
        "\n",
        "2. The distribution of  'nuc' may be relatively uniform or exhibit a more scattered pattern without a well-defined peak or central tendency and  has a lot of outliers . Also uutliers are present in almost all the the classes\n",
        "\n",
        "**Handling Outliers**\n",
        "There are two common approaches to handling outliers in data.\n",
        "\n",
        "The first approach involves **replacing outliers with the mean or mode** of the respective feature. This approach has several advantages. By replacing outliers, we retain the information from these data points and preserve the overall distribution of the data. Additionally, it helps reduce the impact of extreme values on subsequent analysis or modeling. However, there are drawbacks to consider. Replacing outliers with mean or mode can introduce bias and distort the original data. It assumes that these replacement values adequately represent the outliers, which may not always be the case.\n",
        "\n",
        "The second approach is to **delete the rows **that contain outliers. This approach has its own set of advantages. By removing rows with outliers, we eliminate the potential influence of these extreme values on the analysis or modeling. Moreover, it maintains the original distribution and statistical properties of the remaining data. However, there are cons to be aware of as well. Deleting rows means losing information and potentially reducing the size of the dataset. Valuable data points or patterns present in the outliers may be discarded, and the representativeness and generalizability of the dataset may be impacted.\n",
        "\n",
        "In the first run , we will remove only rows which contain top and bottom 5% outliers.  \n",
        "<h3>** Potential Data Pre Processing and Cleaning Steps**</h3>\n",
        "\n",
        "To summarise, following data pre processing task to be done:  \n",
        "\n",
        "*   Drop duplicate rows\n",
        "\n",
        "*   Use oversampling , undersampling and hybrid sampling to handle class imbalance\n",
        "\n",
        "*   Drop the rows containing 5% outliers to handle outliers\n",
        "\n"
      ],
      "metadata": {
        "id": "tC-iWZZ8dOh5"
      }
    },
    {
      "cell_type": "markdown",
      "metadata": {
        "id": "6DeTaaF5hmck"
      },
      "source": [
        "### <h3>Data Pre-processing and cleaning"
      ]
    },
    {
      "cell_type": "code",
      "execution_count": null,
      "metadata": {
        "outputId": "23d71c7b-314c-4ca4-be8b-51f7b3a0eab6",
        "colab": {
          "base_uri": "https://localhost:8080/"
        },
        "id": "32bTZhV7wWkK"
      },
      "outputs": [
        {
          "output_type": "stream",
          "name": "stdout",
          "text": [
            "-----------------------------------\n",
            "Number of duplicate rows: 31\n",
            "31 duplicate rows dropped.\n"
          ]
        }
      ],
      "source": [
        "#@title Duplicate Rows and Delete\n",
        "\n",
        "# Check for duplicate values\n",
        "duplicate_count = df.duplicated().sum()\n",
        "\n",
        "if duplicate_count == 0:\n",
        "    print(\"No duplicate rows.\")\n",
        "else:\n",
        "    print(\"-----------------------------------\")\n",
        "    print(\"Number of duplicate rows:\", duplicate_count)\n",
        "    # drop the duplicate rows\n",
        "    df = df.drop_duplicates()\n",
        "    print(f\"{duplicate_count} duplicate rows dropped.\")\n"
      ]
    },
    {
      "cell_type": "code",
      "source": [
        "#@title Drop Rows containing Outliers\n",
        "\n",
        "\n",
        "# Identify outliers (using top 1% and bottom 1% as thresholds)\n",
        "threshold = 0.01\n",
        "\n",
        "outlier_mask = (\n",
        "    (df['mcg'] < df['mcg'].quantile(threshold)) |\n",
        "    (df['mcg'] > df['mcg'].quantile(1 - threshold)) |\n",
        "    (df['gvh'] < df['gvh'].quantile(threshold)) |\n",
        "    (df['gvh'] > df['gvh'].quantile(1 - threshold)) |\n",
        "    (df['mit'] < df['mit'].quantile(threshold)) |\n",
        "    (df['mit'] > df['mit'].quantile(1 - threshold))\n",
        ")\n",
        "\n",
        "# Create boolean mask to identify rows with outliers\n",
        "filtered_df = df[~outlier_mask]  # Select rows without outliers\n",
        "\n",
        "# Print the filtered DataFrame\n",
        "print(filtered_df)\n",
        "filtered_df.info\n",
        "\n"
      ],
      "metadata": {
        "id": "jY9dLZoXwVPR",
        "colab": {
          "base_uri": "https://localhost:8080/"
        },
        "outputId": "61dcd143-8621-4833-8b6d-530db065d146"
      },
      "execution_count": null,
      "outputs": [
        {
          "output_type": "stream",
          "name": "stdout",
          "text": [
            "       mcg   gvh   alm   mit  erl  pox   vac   nuc name\n",
            "0     0.58  0.61  0.47  0.13  0.5  0.0  0.48  0.22  MIT\n",
            "1     0.43  0.67  0.48  0.27  0.5  0.0  0.53  0.22  MIT\n",
            "2     0.64  0.62  0.49  0.15  0.5  0.0  0.53  0.22  MIT\n",
            "3     0.58  0.44  0.57  0.13  0.5  0.0  0.54  0.22  NUC\n",
            "4     0.42  0.44  0.48  0.54  0.5  0.0  0.48  0.22  MIT\n",
            "...    ...   ...   ...   ...  ...  ...   ...   ...  ...\n",
            "1479  0.81  0.62  0.43  0.17  0.5  0.0  0.53  0.22  ME2\n",
            "1480  0.47  0.43  0.61  0.40  0.5  0.0  0.48  0.47  NUC\n",
            "1481  0.67  0.57  0.36  0.19  0.5  0.0  0.56  0.22  ME2\n",
            "1482  0.43  0.40  0.60  0.16  0.5  0.0  0.53  0.39  NUC\n",
            "1483  0.65  0.54  0.54  0.13  0.5  0.0  0.53  0.22  CYT\n",
            "\n",
            "[1379 rows x 9 columns]\n"
          ]
        },
        {
          "output_type": "execute_result",
          "data": {
            "text/plain": [
              "<bound method DataFrame.info of        mcg   gvh   alm   mit  erl  pox   vac   nuc name\n",
              "0     0.58  0.61  0.47  0.13  0.5  0.0  0.48  0.22  MIT\n",
              "1     0.43  0.67  0.48  0.27  0.5  0.0  0.53  0.22  MIT\n",
              "2     0.64  0.62  0.49  0.15  0.5  0.0  0.53  0.22  MIT\n",
              "3     0.58  0.44  0.57  0.13  0.5  0.0  0.54  0.22  NUC\n",
              "4     0.42  0.44  0.48  0.54  0.5  0.0  0.48  0.22  MIT\n",
              "...    ...   ...   ...   ...  ...  ...   ...   ...  ...\n",
              "1479  0.81  0.62  0.43  0.17  0.5  0.0  0.53  0.22  ME2\n",
              "1480  0.47  0.43  0.61  0.40  0.5  0.0  0.48  0.47  NUC\n",
              "1481  0.67  0.57  0.36  0.19  0.5  0.0  0.56  0.22  ME2\n",
              "1482  0.43  0.40  0.60  0.16  0.5  0.0  0.53  0.39  NUC\n",
              "1483  0.65  0.54  0.54  0.13  0.5  0.0  0.53  0.22  CYT\n",
              "\n",
              "[1379 rows x 9 columns]>"
            ]
          },
          "metadata": {},
          "execution_count": 35
        }
      ]
    },
    {
      "cell_type": "code",
      "source": [
        " # Calculate the Z-scores for each column\n",
        "z_scores = (df - df.mean()) / df.std()\n",
        "\n",
        "# Define the Z-score thresholds\n",
        "z_thresholds = [3, 4, 5]\n",
        "\n",
        "# Create a table to store the results\n",
        "results_table = pd.DataFrame(columns=['Z-Score Threshold', 'Remaining Rows', 'Remark'])\n",
        "\n",
        "# Iterate over the Z-score thresholds\n",
        "for threshold in z_thresholds:\n",
        "    # Create a boolean mask to identify rows with outliers\n",
        "    outlier_mask = (z_scores.abs() > threshold).any(axis=1)\n",
        "\n",
        "    # Count the remaining rows\n",
        "    remaining_rows = df[~outlier_mask].shape[0]\n",
        "\n",
        "    # Calculate the probability of observing a value equal to or greater than the Z-score threshold\n",
        "    probability = \"{:.10f}\".format(1 - (threshold * 2 * 0.01))\n",
        "\n",
        "    # Create a remark based on the probability\n",
        "    remark = f\"P[value >= a Z-score of {threshold}]-{probability}%\"\n",
        "\n",
        "    # Add the results to the table\n",
        "    results_table = results_table.append({'Z-Score Threshold': threshold, 'Remaining Rows': remaining_rows, 'Remark': remark}, ignore_index=True)\n",
        "\n",
        "# Print the results table\n",
        "print(results_table)\n"
      ],
      "metadata": {
        "colab": {
          "base_uri": "https://localhost:8080/"
        },
        "id": "P7X2-Y_LY6V1",
        "outputId": "7616ddc5-258a-410c-c06e-e711a7ad530a"
      },
      "execution_count": null,
      "outputs": [
        {
          "output_type": "stream",
          "name": "stdout",
          "text": [
            "  Z-Score Threshold Remaining Rows                                    Remark\n",
            "0                 3           1328  P[value >= a Z-score of 3]-0.9400000000%\n",
            "1                 4           1396  P[value >= a Z-score of 4]-0.9200000000%\n",
            "2                 5           1414  P[value >= a Z-score of 5]-0.9000000000%\n"
          ]
        },
        {
          "output_type": "stream",
          "name": "stderr",
          "text": [
            "<ipython-input-36-587ea4cc7651>:2: FutureWarning: The default value of numeric_only in DataFrame.mean is deprecated. In a future version, it will default to False. In addition, specifying 'numeric_only=None' is deprecated. Select only valid columns or specify the value of numeric_only to silence this warning.\n",
            "  z_scores = (df - df.mean()) / df.std()\n",
            "<ipython-input-36-587ea4cc7651>:2: FutureWarning: The default value of numeric_only in DataFrame.std is deprecated. In a future version, it will default to False. In addition, specifying 'numeric_only=None' is deprecated. Select only valid columns or specify the value of numeric_only to silence this warning.\n",
            "  z_scores = (df - df.mean()) / df.std()\n",
            "<ipython-input-36-587ea4cc7651>:25: FutureWarning: The frame.append method is deprecated and will be removed from pandas in a future version. Use pandas.concat instead.\n",
            "  results_table = results_table.append({'Z-Score Threshold': threshold, 'Remaining Rows': remaining_rows, 'Remark': remark}, ignore_index=True)\n",
            "<ipython-input-36-587ea4cc7651>:25: FutureWarning: The frame.append method is deprecated and will be removed from pandas in a future version. Use pandas.concat instead.\n",
            "  results_table = results_table.append({'Z-Score Threshold': threshold, 'Remaining Rows': remaining_rows, 'Remark': remark}, ignore_index=True)\n",
            "<ipython-input-36-587ea4cc7651>:25: FutureWarning: The frame.append method is deprecated and will be removed from pandas in a future version. Use pandas.concat instead.\n",
            "  results_table = results_table.append({'Z-Score Threshold': threshold, 'Remaining Rows': remaining_rows, 'Remark': remark}, ignore_index=True)\n"
          ]
        }
      ]
    },
    {
      "cell_type": "code",
      "source": [
        "sns.boxplot(filtered_df, orient ='h')"
      ],
      "metadata": {
        "colab": {
          "base_uri": "https://localhost:8080/",
          "height": 447
        },
        "id": "B1buUcv9W8mT",
        "outputId": "bc0ad231-d374-499d-b820-1c822c0be5f6"
      },
      "execution_count": null,
      "outputs": [
        {
          "output_type": "execute_result",
          "data": {
            "text/plain": [
              "<Axes: >"
            ]
          },
          "metadata": {},
          "execution_count": 37
        },
        {
          "output_type": "display_data",
          "data": {
            "text/plain": [
              "<Figure size 640x480 with 1 Axes>"
            ],
            "image/png": "[encoded data removed]"
          },
          "metadata": {}
        }
      ]
    },
    {
      "cell_type": "code",
      "source": [
        "#@title Deploying Over, Under and Hybrid Sampling\n",
        "# Splitting the DataFrame into features (X) and target (y)\n",
        "X = df.drop('name', axis=1)\n",
        "y = df['name']\n",
        "\n",
        "# Splitting the data into training and testing sets\n",
        "X_train, X_test, y_train, y_test = train_test_split(X, y, test_size=0.2, random_state=42)\n",
        "\n",
        "# Oversampling using SMOTE\n",
        "oversampler = SMOTE(random_state=42, k_neighbors=3)\n",
        "X_train_oversampled, y_train_oversampled = oversampler.fit_resample(X_train, y_train)\n",
        "\n",
        "# Undersampling using RandomUnderSampler\n",
        "undersampler = RandomUnderSampler(random_state=42)\n",
        "X_train_undersampled, y_train_undersampled = undersampler.fit_resample(X_train, y_train)\n",
        "\n",
        "# Hybrid sampling using SMOTEENN\n",
        "hybrid_sampler = SMOTEENN(random_state=42,smote=SMOTE(k_neighbors=3))\n",
        "X_train_hybrid, y_train_hybrid = hybrid_sampler.fit_resample(X_train, y_train)\n"
      ],
      "metadata": {
        "id": "O1OSBkacbMd4"
      },
      "execution_count": null,
      "outputs": []
    },
    {
      "cell_type": "markdown",
      "source": [
        "##Case 1 : Train = 80 % Test = 20% [ x_train1,y_train1] = 80% ; [ x_test1,y_test1] = 20% ;\n",
        "\n"
      ],
      "metadata": {
        "id": "MdlJOmz9aDao"
      }
    },
    {
      "cell_type": "code",
      "source": [
        "# Select the desired sampled dataset  for training and testing\n",
        "X_train_sampled = X_train_oversampled  # Choose the desired oversampled dataset\n",
        "y_train_sampled = y_train_oversampled# Choose the desired oversampled dataset\n",
        "\n",
        "# Training and testing with oversampled dataset\n",
        "model = LogisticRegression(solver='saga', max_iter=100)\n",
        "X_train, X_test, y_train, y_test = train_test_split(X_train_sampled, y_train_sampled, test_size=0.2, random_state=42)\n",
        "k = 10\n",
        "cv_scores = cross_val_score(model, X_train, y_train, cv=k)\n",
        "for fold, score in enumerate(cv_scores, start=1):\n",
        "    print(f\"Fold {fold}: {score*100:.2f}%\")\n",
        "model.fit(X_train, y_train)\n",
        "test_score = model.score(X_test, y_test)\n",
        "print(f\"Oversampled Test Score: {test_score*100:.2f}%\")"
      ],
      "metadata": {
        "colab": {
          "base_uri": "https://localhost:8080/"
        },
        "id": "7kLieb_e6gTK",
        "outputId": "6f986274-0a56-4652-f73f-2cc8fa5b6af8"
      },
      "execution_count": null,
      "outputs": [
        {
          "output_type": "stream",
          "name": "stdout",
          "text": [
            "Fold 1: 66.90%\n",
            "Fold 2: 67.96%\n",
            "Fold 3: 64.44%\n",
            "Fold 4: 61.27%\n",
            "Fold 5: 67.61%\n",
            "Fold 6: 61.62%\n",
            "Fold 7: 67.25%\n",
            "Fold 8: 63.73%\n",
            "Fold 9: 64.79%\n",
            "Fold 10: 60.92%\n",
            "Oversampled Test Score: 64.65%\n"
          ]
        }
      ]
    },
    {
      "cell_type": "code",
      "source": [
        "# Select the desired sampled dataset  for training and testing\n",
        "X_train_sampled = X_train_undersampled  # Choose the desired undersampled dataset\n",
        "y_train_sampled = y_train_undersampled  # Choose the desired undersampled dataset\n",
        "\n",
        "# Training and testing with undersampled dataset\n",
        "model = LogisticRegression(solver='saga', max_iter=100)\n",
        "X_train, X_test, y_train, y_test = train_test_split(X_train_sampled, y_train_sampled, test_size=0.2, random_state=42)\n",
        "k = 4\n",
        "cv_scores = cross_val_score(model, X_train, y_train, cv=k)\n",
        "for fold, score in enumerate(cv_scores, start=1):\n",
        "    print(f\"Fold {fold}: {score*100:.2f}%\")\n",
        "model.fit(X_train, y_train)\n",
        "test_score = model.score(X_test, y_test)\n",
        "print(f\"Undersampled Test Score: {test_score*100:.2f}%\")"
      ],
      "metadata": {
        "colab": {
          "base_uri": "https://localhost:8080/"
        },
        "id": "WhQmJrhQ6nzh",
        "outputId": "d957afaf-dfe8-4b08-ad4b-124111dd0730"
      },
      "execution_count": null,
      "outputs": [
        {
          "output_type": "stream",
          "name": "stdout",
          "text": [
            "Fold 1: 37.50%\n",
            "Fold 2: 37.50%\n",
            "Fold 3: 50.00%\n",
            "Fold 4: 62.50%\n",
            "Undersampled Test Score: 12.50%\n"
          ]
        },
        {
          "output_type": "stream",
          "name": "stderr",
          "text": [
            "/usr/local/lib/python3.10/dist-packages/sklearn/model_selection/_split.py:725: UserWarning: The least populated class in y has only 2 members, which is less than n_splits=4.\n",
            "  warnings.warn(\n"
          ]
        }
      ]
    },
    {
      "cell_type": "code",
      "source": [
        "# Select the desired sampled dataset for training and testing\n",
        "X_train_sampled = X_train_hybrid  # Choose the desired hybrid sampled dataset\n",
        "y_train_sampled = y_train_hybrid  # Choose the desired hybrid sampled dataset\n",
        "\n",
        "# Training and testing with hybrid sampled dataset\n",
        "model = LogisticRegression(solver='saga', max_iter=100)\n",
        "X_train, X_test, y_train, y_test = train_test_split(X_train_sampled, y_train_sampled, test_size=0.2, random_state=42)\n",
        "k = 10\n",
        "cv_scores = cross_val_score(model, X_train, y_train, cv=k)\n",
        "for fold, score in enumerate(cv_scores, start=1):\n",
        "    print(f\"Fold {fold}: {score*100:.2f}%\")\n",
        "model.fit(X_train, y_train)\n",
        "test_score = model.score(X_test, y_test)\n",
        "print(f\"Hybrid Sampled Test Score: {test_score*100:.2f}%\")\n",
        "\n",
        "from sklearn.metrics import confusion_matrix,classification_report\n",
        "\n",
        "# Calculate additional evaluation metrics\n",
        "y_pred = model.predict(X_test)\n",
        "classification_report = classification_report(y_test, y_pred)\n",
        "print(\"Classification Report:\")\n",
        "print(classification_report)"
      ],
      "metadata": {
        "colab": {
          "base_uri": "https://localhost:8080/"
        },
        "id": "IksiEIvY6vIR",
        "outputId": "afb0e5b8-e6c8-4795-fad0-70debf9531ba"
      },
      "execution_count": null,
      "outputs": [
        {
          "output_type": "stream",
          "name": "stdout",
          "text": [
            "Fold 1: 72.64%\n",
            "Fold 2: 77.36%\n",
            "Fold 3: 74.53%\n",
            "Fold 4: 75.47%\n",
            "Fold 5: 74.53%\n",
            "Fold 6: 74.41%\n",
            "Fold 7: 77.25%\n",
            "Fold 8: 75.36%\n",
            "Fold 9: 76.78%\n",
            "Fold 10: 78.20%\n",
            "Hybrid Sampled Test Score: 75.80%\n",
            "Classification Report:\n",
            "              precision    recall  f1-score   support\n",
            "\n",
            "         CYT       0.00      0.00      0.00         3\n",
            "         ERL       1.00      1.00      1.00        71\n",
            "         EXC       0.64      0.77      0.70        69\n",
            "         ME1       0.73      0.84      0.78        68\n",
            "         ME2       0.81      0.58      0.68        76\n",
            "         ME3       0.64      0.87      0.73        54\n",
            "         MIT       0.90      0.96      0.92        45\n",
            "         NUC       1.00      0.46      0.63        13\n",
            "         POX       1.00      0.68      0.81        76\n",
            "         VAC       0.44      0.52      0.48        54\n",
            "\n",
            "    accuracy                           0.76       529\n",
            "   macro avg       0.72      0.67      0.67       529\n",
            "weighted avg       0.78      0.76      0.76       529\n",
            "\n"
          ]
        },
        {
          "output_type": "stream",
          "name": "stderr",
          "text": [
            "/usr/local/lib/python3.10/dist-packages/sklearn/metrics/_classification.py:1469: UndefinedMetricWarning: Precision and F-score are ill-defined and being set to 0.0 in labels with no predicted samples. Use `zero_division` parameter to control this behavior.\n",
            "  _warn_prf(average, modifier, msg_start, len(result))\n",
            "/usr/local/lib/python3.10/dist-packages/sklearn/metrics/_classification.py:1469: UndefinedMetricWarning: Precision and F-score are ill-defined and being set to 0.0 in labels with no predicted samples. Use `zero_division` parameter to control this behavior.\n",
            "  _warn_prf(average, modifier, msg_start, len(result))\n",
            "/usr/local/lib/python3.10/dist-packages/sklearn/metrics/_classification.py:1469: UndefinedMetricWarning: Precision and F-score are ill-defined and being set to 0.0 in labels with no predicted samples. Use `zero_division` parameter to control this behavior.\n",
            "  _warn_prf(average, modifier, msg_start, len(result))\n"
          ]
        }
      ]
    },
    {
      "cell_type": "markdown",
      "source": [
        "<h3> Comparsion of Sampling Method </h3>\n",
        "\n",
        "<table>\n",
        "  <tr>\n",
        "    <th>Sampling Method</th>\n",
        "    <th>Maximum</th>\n",
        "    <th>Minimum</th>\n",
        "    <th>Average</th>\n",
        "    <th>Remarks</th>\n",
        "  </tr>\n",
        "  <tr>\n",
        "    <td>Oversampled</td>\n",
        "    <td>67.96%</td>\n",
        "    <td>60.92%</td>\n",
        "    <td>64.65%</td>\n",
        "    <td>-</td>\n",
        "  </tr>\n",
        "  <tr>\n",
        "    <td>Undersampled</td>\n",
        "    <td>62.50%</td>\n",
        "    <td>12.50%</td>\n",
        "    <td>37.50%</td>\n",
        "    <td>Classification imbalance not addressed, needs further adjustment in k-fold</td>\n",
        "  </tr>\n",
        "  <tr>\n",
        "    <td>Hybrid Sampled</td>\n",
        "    <td>78.95%</td>\n",
        "    <td>70.81%</td>\n",
        "    <td>75.34%</td>\n",
        "    <td>-</td>\n",
        "  </tr>\n",
        "</table>\n",
        "\n",
        "The comparison indicates that theaccuracy is best for  **hybrid sampling**"
      ],
      "metadata": {
        "id": "tXmFZToXMTzs"
      }
    },
    {
      "cell_type": "markdown",
      "metadata": {
        "id": "TBy5Vf8yhmck"
      },
      "source": [
        "### <h3>Model Building</h3>"
      ]
    },
    {
      "cell_type": "code",
      "source": [
        "x = df.drop('name', axis=1)\n",
        "y = df['name']\n",
        "model = LogisticRegression(solver='saga', max_iter=100)\n",
        "X_train, X_test, y_train, y_test = train_test_split(x, y, test_size=0.2, random_state=42)\n",
        "k = 10\n",
        "cv_scores = cross_val_score(model, X_train, y_train, cv=k)\n",
        "for fold, score in enumerate(cv_scores, start=1):\n",
        "    print(f\"Fold {fold}: {score*100:.2f}%\")\n",
        "model.fit(X_train, y_train)\n",
        "test_score = model.score(X_test, y_test)\n",
        "print(f\"Test Score: {test_score*100:.2f}%\")"
      ],
      "metadata": {
        "id": "EFSEteQJaIUB",
        "colab": {
          "base_uri": "https://localhost:8080/"
        },
        "outputId": "88e9b83a-62bc-4a88-93d0-2bee8c55a3d2"
      },
      "execution_count": null,
      "outputs": [
        {
          "output_type": "stream",
          "name": "stderr",
          "text": [
            "/usr/local/lib/python3.10/dist-packages/sklearn/model_selection/_split.py:725: UserWarning: The least populated class in y has only 4 members, which is less than n_splits=10.\n",
            "  warnings.warn(\n"
          ]
        },
        {
          "output_type": "stream",
          "name": "stdout",
          "text": [
            "Fold 1: 57.26%\n",
            "Fold 2: 53.85%\n",
            "Fold 3: 53.45%\n",
            "Fold 4: 55.17%\n",
            "Fold 5: 55.17%\n",
            "Fold 6: 51.72%\n",
            "Fold 7: 56.90%\n",
            "Fold 8: 51.72%\n",
            "Fold 9: 56.03%\n",
            "Fold 10: 55.17%\n",
            "Test Score: 53.61%\n"
          ]
        }
      ]
    },
    {
      "cell_type": "code",
      "source": [
        "#USING BAR PLOT\n",
        "plt.figure(figsize=(8, 4))  # Set the figure size (width, height)\n",
        "\n",
        "plt.bar(range(1, k+1), cv_scores)\n",
        "plt.xlabel('Fold')\n",
        "plt.ylabel('Score')\n",
        "plt.title('Logistic Regression Cross-Validation Scores')\n",
        "plt.show()"
      ],
      "metadata": {
        "id": "esPXHTuKaNch",
        "colab": {
          "base_uri": "https://localhost:8080/",
          "height": 410
        },
        "collapsed": true,
        "outputId": "53643b02-0546-4a32-985e-014da566d672"
      },
      "execution_count": null,
      "outputs": [
        {
          "output_type": "display_data",
          "data": {
            "text/plain": [
              "<Figure size 800x400 with 1 Axes>"
            ],
            "image/png": "[encoded data removed]"
          },
          "metadata": {}
        }
      ]
    },
    {
      "cell_type": "code",
      "source": [
        "#USING LINE PLOT\n",
        "plt.figure(figsize=(8, 4))  # Set the figure size (width, height)\n",
        "plt.plot(range(1, k+1), cv_scores, marker='o')\n",
        "plt.xlabel('Fold')\n",
        "plt.ylabel('Score')\n",
        "plt.title('Logistic Regression Cross-Validation Scores')\n",
        "plt.ylim(0.3, 0.9)  # Set the y-axis limits\n",
        "plt.show()"
      ],
      "metadata": {
        "id": "yC2RYRaDaOPp",
        "colab": {
          "base_uri": "https://localhost:8080/",
          "height": 410
        },
        "collapsed": true,
        "outputId": "da1bbf29-b10c-4ffa-9d38-88e37c5796ab"
      },
      "execution_count": null,
      "outputs": [
        {
          "output_type": "display_data",
          "data": {
            "text/plain": [
              "<Figure size 800x400 with 1 Axes>"
            ],
            "image/png": "[encoded data removed]"
          },
          "metadata": {}
        }
      ]
    },
    {
      "cell_type": "markdown",
      "source": [
        "##Case 2 : Train = 10 % Test = 90% [ x_train2,y_train2] = 10% ; [ x_test2,y_test2] = 90%"
      ],
      "metadata": {
        "id": "heHmQC7kaU16"
      }
    },
    {
      "cell_type": "code",
      "source": [
        "X_train, X_test, y_train, y_test = train_test_split(x, y, test_size=0.9, random_state=42)\n",
        "k = 10\n",
        "cv_scores = cross_val_score(model, X_train, y_train, cv=k)\n",
        "for fold, score in enumerate(cv_scores, start=1):\n",
        "    print(f\"Fold {fold}: {score*100:.2f}%\")\n",
        "model.fit(X_train, y_train)\n",
        "test_score = model.score(X_test, y_test)\n",
        "print(f\"Test Score:{test_score*100:.2f}%\")"
      ],
      "metadata": {
        "id": "XmYyIB2vaXV4",
        "colab": {
          "base_uri": "https://localhost:8080/"
        },
        "outputId": "8e17fdff-9c81-4bfe-8d37-6764e3c01d7b"
      },
      "execution_count": null,
      "outputs": [
        {
          "output_type": "stream",
          "name": "stderr",
          "text": [
            "/usr/local/lib/python3.10/dist-packages/sklearn/model_selection/_split.py:725: UserWarning: The least populated class in y has only 2 members, which is less than n_splits=10.\n",
            "  warnings.warn(\n"
          ]
        },
        {
          "output_type": "stream",
          "name": "stdout",
          "text": [
            "Fold 1: 46.67%\n",
            "Fold 2: 46.67%\n",
            "Fold 3: 40.00%\n",
            "Fold 4: 26.67%\n",
            "Fold 5: 53.33%\n",
            "Fold 6: 57.14%\n",
            "Fold 7: 57.14%\n",
            "Fold 8: 35.71%\n",
            "Fold 9: 35.71%\n",
            "Fold 10: 21.43%\n",
            "Test Score:45.95%\n"
          ]
        }
      ]
    },
    {
      "cell_type": "code",
      "source": [
        "#USING BAR PLOT\n",
        "plt.figure(figsize=(8, 4))  # Set the figure size (width, height)\n",
        "plt.bar(range(1, k+1), cv_scores)\n",
        "plt.xlabel('Fold')\n",
        "plt.ylabel('Score')\n",
        "plt.title('Logistic Regression Cross-Validation Scores')\n",
        "plt.show()"
      ],
      "metadata": {
        "id": "2fVb8VWEacFa",
        "colab": {
          "base_uri": "https://localhost:8080/",
          "height": 410
        },
        "outputId": "85df60a3-cc19-4b0e-9ce5-5293b5174261"
      },
      "execution_count": null,
      "outputs": [
        {
          "output_type": "display_data",
          "data": {
            "text/plain": [
              "<Figure size 800x400 with 1 Axes>"
            ],
            "image/png": "[encoded data removed]"
          },
          "metadata": {}
        }
      ]
    },
    {
      "cell_type": "code",
      "source": [
        "#USING LINE PLOT\n",
        "plt.figure(figsize=(8, 4))  # Set the figure size (width, height)\n",
        "plt.plot(range(1, k+1), cv_scores, marker='o')\n",
        "plt.xlabel('Fold')\n",
        "plt.ylabel('Score')\n",
        "plt.title('Logistic Regression Cross-Validation Scores')\n",
        "plt.ylim(0.3, 0.9)  # Set the y-axis limits\n",
        "plt.show()"
      ],
      "metadata": {
        "id": "9D-7kbZCaeah",
        "colab": {
          "base_uri": "https://localhost:8080/",
          "height": 410
        },
        "outputId": "b1e02fba-469a-4102-8067-f9f7b0ed57f6"
      },
      "execution_count": null,
      "outputs": [
        {
          "output_type": "display_data",
          "data": {
            "text/plain": [
              "<Figure size 800x400 with 1 Axes>"
            ],
            "image/png": "[encoded data removed]"
          },
          "metadata": {}
        }
      ]
    },
    {
      "cell_type": "markdown",
      "source": [
        "##Code With Regularization Vs Without Regularisation"
      ],
      "metadata": {
        "id": "lUrk1KXpaggz"
      }
    },
    {
      "cell_type": "code",
      "source": [
        "# Select the desired sampled dataset for training and testing\n",
        "X_train_sampled = X_train_hybrid  # Choose the desired hybrid sampled dataset\n",
        "y_train_sampled = y_train_hybrid  # Choose the desired hybrid sampled dataset\n",
        "\n",
        "model = LogisticRegression(solver='saga', max_iter=1000, penalty='l1', C=1.0)\n",
        "X_train, X_test, y_train, y_test = train_test_split(X_train_sampled, y_train_sampled, test_size=0.2, random_state=42)\n",
        "k = 10\n",
        "cv_scores = cross_val_score(model, X_train, y_train, cv=k)\n",
        "for fold, score in enumerate(cv_scores, start=1):\n",
        "     print(f\"Fold {fold}: {score*100:.2f}%\")\n",
        "model.fit(X_train, y_train)\n",
        "test_score = model.score(X_test, y_test)\n",
        "print(f\"Test Score: {test_score*100:.2f}%\")\n",
        "\n",
        "from sklearn.metrics import confusion_matrix,classification_report\n",
        "\n",
        "\n",
        "# Calculate additional evaluation metrics\n",
        "y_pred = model.predict(X_test)\n",
        "classification_report = classification_report(y_test, y_pred)\n",
        "print(\"Classification Report:\")\n",
        "print(classification_report)"
      ],
      "metadata": {
        "id": "TrXxAxYFaiPp",
        "colab": {
          "base_uri": "https://localhost:8080/"
        },
        "outputId": "3c8ebc9e-a6b6-49be-bb06-dc23aceac143"
      },
      "execution_count": 71,
      "outputs": [
        {
          "output_type": "stream",
          "name": "stdout",
          "text": [
            "Fold 1: 74.53%\n",
            "Fold 2: 76.42%\n",
            "Fold 3: 75.94%\n",
            "Fold 4: 77.83%\n",
            "Fold 5: 75.47%\n",
            "Fold 6: 75.83%\n",
            "Fold 7: 77.73%\n",
            "Fold 8: 75.83%\n",
            "Fold 9: 77.25%\n",
            "Fold 10: 78.67%\n",
            "Test Score: 77.50%\n",
            "Classification Report:\n",
            "              precision    recall  f1-score   support\n",
            "\n",
            "         CYT       1.00      0.33      0.50         3\n",
            "         ERL       1.00      1.00      1.00        71\n",
            "         EXC       0.65      0.75      0.70        69\n",
            "         ME1       0.74      0.81      0.77        68\n",
            "         ME2       0.82      0.62      0.71        76\n",
            "         ME3       0.71      0.87      0.78        54\n",
            "         MIT       0.88      0.96      0.91        45\n",
            "         NUC       1.00      0.77      0.87        13\n",
            "         POX       0.93      0.68      0.79        76\n",
            "         VAC       0.49      0.59      0.54        54\n",
            "\n",
            "    accuracy                           0.78       529\n",
            "   macro avg       0.82      0.74      0.76       529\n",
            "weighted avg       0.79      0.78      0.78       529\n",
            "\n"
          ]
        }
      ]
    },
    {
      "cell_type": "markdown",
      "source": [
        "<h2> Regularisation Vs Without Regularisation </h2>\n",
        "\n",
        "\n",
        "<table>\n",
        "  <tr>\n",
        "    <th>Class</th>\n",
        "    <th>Precision (Without Regularization)</th>\n",
        "    <th>Precision (With Regularization)</th>\n",
        "    <th>Recall (Without Regularization)</th>\n",
        "    <th>Recall (With Regularization)</th>\n",
        "    <th>F1-Score (Without Regularization)</th>\n",
        "    <th>F1-Score (With Regularization)</th>\n",
        "    <th>Support</th>\n",
        "  </tr>\n",
        "  <tr>\n",
        "    <td>CYT</td>\n",
        "    <td>0.00</td>\n",
        "    <td>1.00</td>\n",
        "    <td>0.00</td>\n",
        "    <td>0.33</td>\n",
        "    <td>0.00</td>\n",
        "    <td>0.50</td>\n",
        "    <td>3</td>\n",
        "  </tr>\n",
        "  <tr>\n",
        "    <td>ERL</td>\n",
        "    <td>1.00</td>\n",
        "    <td>1.00</td>\n",
        "    <td>1.00</td>\n",
        "    <td>1.00</td>\n",
        "    <td>1.00</td>\n",
        "    <td>1.00</td>\n",
        "    <td>71</td>\n",
        "  </tr>\n",
        "  <tr>\n",
        "    <td>EXC</td>\n",
        "    <td>0.64</td>\n",
        "    <td>0.65</td>\n",
        "    <td>0.77</td>\n",
        "    <td>0.75</td>\n",
        "    <td>0.70</td>\n",
        "    <td>0.70</td>\n",
        "    <td>69</td>\n",
        "  </tr>\n",
        "  <tr>\n",
        "    <td>ME1</td>\n",
        "    <td>0.73</td>\n",
        "    <td>0.74</td>\n",
        "    <td>0.84</td>\n",
        "    <td>0.81</td>\n",
        "    <td>0.78</td>\n",
        "    <td>0.77</td>\n",
        "    <td>68</td>\n",
        "  </tr>\n",
        "  <tr>\n",
        "    <td>ME2</td>\n",
        "    <td>0.81</td>\n",
        "    <td>0.82</td>\n",
        "    <td>0.58</td>\n",
        "    <td>0.62</td>\n",
        "    <td>0.68</td>\n",
        "    <td>0.71</td>\n",
        "    <td>76</td>\n",
        "  </tr>\n",
        "  <tr>\n",
        "    <td>ME3</td>\n",
        "    <td>0.64</td>\n",
        "    <td>0.71</td>\n",
        "    <td>0.87</td>\n",
        "    <td>0.87</td>\n",
        "    <td>0.73</td>\n",
        "    <td>0.78</td>\n",
        "    <td>54</td>\n",
        "  </tr>\n",
        "  <tr>\n",
        "    <td>MIT</td>\n",
        "    <td>0.90</td>\n",
        "    <td>0.88</td>\n",
        "    <td>0.96</td>\n",
        "    <td>0.96</td>\n",
        "    <td>0.92</td>\n",
        "    <td>0.91</td>\n",
        "    <td>45</td>\n",
        "  </tr>\n",
        "  <tr>\n",
        "    <td>NUC</td>\n",
        "    <td>1.00</td>\n",
        "    <td>1.00</td>\n",
        "    <td>0.46</td>\n",
        "    <td>0.77</td>\n",
        "    <td>0.63</td>\n",
        "    <td>0.87</td>\n",
        "    <td>13</td>\n",
        "  </tr>\n",
        "  <tr>\n",
        "    <td>POX</td>\n",
        "    <td>1.00</td>\n",
        "    <td>0.93</td>\n",
        "    <td>0.68</td>\n",
        "    <td>0.68</td>\n",
        "    <td>0.81</td>\n",
        "    <td>0.79</td>\n",
        "    <td>76</td>\n",
        "  </tr>\n",
        "  <tr>\n",
        "    <td>VAC</td>\n",
        "    <td>0.44</td>\n",
        "    <td>0.49</td>\n",
        "    <td>0.52</td>\n",
        "    <td>0.59</td>\n",
        "    <td>0.48</td>\n",
        "    <td>0.54</td>\n",
        "    <td>54</td>\n",
        "  </tr>\n",
        "</table>\n",
        "\n",
        "<h3>Imact of Regularisation</h3>\n",
        "\n",
        "Regularization has made a significant impact on the performance metrics, as seen in the comparison table. Let's look at specific examples to understand how regularization has influenced the results.\n",
        "\n",
        "For example, consider the class \"CYT.\" Without regularization, the model couldn't correctly identify any instances of this class. However, with regularization, the model's precision improved, meaning it made accurate predictions for all instances of \"CYT.\" While the recall is still relatively low, the overall balance between precision and recall, as indicated by the F1-score, has improved with regularization.\n",
        "\n",
        "Another instance is the class \"NUC.\" Without regularization, the model missed a considerable number of instances in this class. However, regularization has significantly improved the model's ability to identify instances of \"NUC,\" leading to a higher recall. Consequently, the F1-score, which considers both precision and recall, has increased, indicating an overall improvement in classifying \"NUC.\"\n",
        "\n",
        "While regularization generally improves performance, it's important to note that some classes may experience minor decreases in certain metrics. For instance, the precision for the class \"POX\" decreased slightly with regularization, suggesting a few false positives. However, the F1-score remained stable, indicating a reasonable balance between precision and recall.\n",
        "\n",
        "Overall, regularization has proven to be beneficial in enhancing the model's performance. It helps the model generalize better and strike a balance between precision and recall for different classes. These improvements demonstrate the value of incorporating regularization techniques in machine learning models, ultimately enhancing the reliability and accuracy of the classification system."
      ],
      "metadata": {
        "id": "mW2zVhkVSloa"
      }
    },
    {
      "cell_type": "code",
      "source": [
        "\n",
        "plt.figure(figsize=(8, 4))  # Set the figure size (width, height)\n",
        "plt.plot(range(1, k+1), cv_scores, marker='o')\n",
        "plt.xlabel('Fold')\n",
        "plt.ylabel('Score')\n",
        "plt.title('Logistic Regression Cross-Validation Scores')\n",
        "plt.show()"
      ],
      "metadata": {
        "colab": {
          "base_uri": "https://localhost:8080/",
          "height": 410
        },
        "id": "dUKj0bC-EI8-",
        "outputId": "56d01316-ead1-4fd2-c778-e3caff653abd"
      },
      "execution_count": null,
      "outputs": [
        {
          "output_type": "display_data",
          "data": {
            "text/plain": [
              "<Figure size 800x400 with 1 Axes>"
            ],
            "image/png": "[encoded data removed]"
          },
          "metadata": {}
        }
      ]
    },
    {
      "cell_type": "markdown",
      "metadata": {
        "id": "QtHAuLnVhmck"
      },
      "source": [
        "### <h3>Performance Evaluation<h3>"
      ]
    },
    {
      "cell_type": "code",
      "source": [
        "# Convert the target variable to binary form\n",
        "y_test_binary = label_binarize(y_test, classes=model.classes_)\n",
        "\n",
        "# Calculate the predicted probabilities for each class\n",
        "y_prob = model.predict_proba(X_test)\n",
        "\n",
        "# Compute the ROC curve and AUC for each class\n",
        "fpr = dict()\n",
        "tpr = dict()\n",
        "auc = dict()\n",
        "for i in range(len(model.classes_)):\n",
        "    fpr[i], tpr[i], _ = roc_curve(y_test_binary[:, i], y_prob[:, i])\n",
        "    auc[i] = roc_auc_score(y_test_binary[:, i], y_prob[:, i])\n",
        "\n",
        "# Print the AUC values for each class\n",
        "for i, class_name in enumerate(model.classes_):\n",
        "    print(f\"AUC for {class_name}: {auc[i]:.2f}\")\n",
        "\n",
        "from sklearn.metrics import confusion_matrix,classification_report\n",
        "y_pred = model.predict(X_test)\n",
        "classification_report_test = classification_report(y_test, y_pred)\n",
        "print(\"Classification Report Test:\")\n",
        "print(classification_report_test)\n",
        "\n",
        "Y_pred_train = model.predict(X_train)\n",
        "classification_report_train= classification_report(y_train ,Y_pred_train)\n",
        "print(\"Classification report for Training\" )\n",
        "print(classification_report_train)"
      ],
      "metadata": {
        "id": "KC0V7yAEf_Rl",
        "colab": {
          "base_uri": "https://localhost:8080/"
        },
        "outputId": "4c40c94a-2fa0-4f9b-a72c-f572727d55c0"
      },
      "execution_count": null,
      "outputs": [
        {
          "output_type": "stream",
          "name": "stdout",
          "text": [
            "AUC for CYT: 0.93\n",
            "AUC for ERL: 1.00\n",
            "AUC for EXC: 0.96\n",
            "AUC for ME1: 0.97\n",
            "AUC for ME2: 0.87\n",
            "AUC for ME3: 0.98\n",
            "AUC for MIT: 0.99\n",
            "AUC for NUC: 0.99\n",
            "AUC for POX: 0.96\n",
            "AUC for VAC: 0.89\n",
            "Classification Report Test:\n",
            "              precision    recall  f1-score   support\n",
            "\n",
            "         CYT       1.00      0.33      0.50         3\n",
            "         ERL       1.00      1.00      1.00        71\n",
            "         EXC       0.65      0.75      0.70        69\n",
            "         ME1       0.74      0.81      0.77        68\n",
            "         ME2       0.82      0.62      0.71        76\n",
            "         ME3       0.71      0.87      0.78        54\n",
            "         MIT       0.88      0.96      0.91        45\n",
            "         NUC       1.00      0.77      0.87        13\n",
            "         POX       0.93      0.68      0.79        76\n",
            "         VAC       0.49      0.59      0.54        54\n",
            "\n",
            "    accuracy                           0.78       529\n",
            "   macro avg       0.82      0.74      0.76       529\n",
            "weighted avg       0.79      0.78      0.78       529\n",
            "\n",
            "Classification report for Training\n",
            "              precision    recall  f1-score   support\n",
            "\n",
            "         CYT       0.40      0.06      0.11        33\n",
            "         ERL       1.00      1.00      1.00       284\n",
            "         EXC       0.74      0.78      0.76       267\n",
            "         ME1       0.78      0.88      0.83       286\n",
            "         ME2       0.72      0.64      0.68       261\n",
            "         ME3       0.77      0.85      0.81       237\n",
            "         MIT       0.79      0.86      0.82       157\n",
            "         NUC       0.93      0.78      0.85        54\n",
            "         POX       0.94      0.61      0.74       269\n",
            "         VAC       0.50      0.63      0.56       267\n",
            "\n",
            "    accuracy                           0.77      2115\n",
            "   macro avg       0.76      0.71      0.72      2115\n",
            "weighted avg       0.78      0.77      0.77      2115\n",
            "\n"
          ]
        }
      ]
    },
    {
      "cell_type": "markdown",
      "source": [
        "<h3>Observation on AUC</h3>\n",
        "Based on the AUC (Area Under the Curve) values obtained for each class, we can draw the following observations:\n",
        "\n",
        "1. ERL: The AUC value for ERL is 1.00, indicating excellent performance. The model demonstrates perfect discrimination, effectively distinguishing between positive and negative instances of ERL.\n",
        "\n",
        "2. ME1, ME3, and MIT: These classes show high AUC values of 0.97, 0.98, and 0.99, respectively. The model exhibits strong discriminatory power in identifying positive instances for these classes, suggesting good performance in classification.\n",
        "\n",
        "3. EXC and POX: With AUC values of 0.96, both EXC and POX classes demonstrate reasonably high discrimination. The model performs well in distinguishing between positive and negative instances for these classes.\n",
        "\n",
        "4. CYT, ME2, and NUC: These classes exhibit moderate AUC values ranging from 0.87 to 0.93. While the model shows a relatively good ability to discriminate, there is room for further improvement in accurately classifying instances for these classes.\n",
        "\n",
        "5. VAC: The AUC value for VAC is 0.89, indicating acceptable discrimination. However, there is potential for improvement to enhance the model's ability to differentiate between positive and negative instances for this class.\n",
        "\n",
        "Overall, the AUC values provide insights into the model's discriminatory power for each class. The observations indicate strong performance for ERL, ME1, ME3, and MIT, while EXC, POX, CYT, ME2, NUC, and VAC show varying levels of discrimination, with some classes having room for further refinement.\n",
        "\n",
        "\n",
        "\n",
        "<h3>Observations:</h3>\n",
        "\n",
        "CYT: The precision for CYT is 1.00, indicating that all instances predicted as CYT were correct. However, the recall is 0.33, implying that only a third of the actual instances of CYT were correctly classified.\n",
        "\n",
        "ERL: ERL has perfect precision and recall, with scores of 1.00, suggesting that the model performed exceptionally well in classifying instances of ERL.\n",
        "\n",
        "EXC, ME1, ME2, ME3, MIT, NUC, POX, and VAC: These classes have varying precision, recall, and F1-scores, indicating the model's performance in correctly classifying instances for each class. Some classes, like MIT and NUC, exhibit high precision, recall, and F1-scores, suggesting strong performance, while others, like VAC, have relatively lower scores, indicating room for improvement.\n",
        "\n",
        "Weighted Average: The weighted average precision, recall, and F1-score are around 0.79, indicating a reasonable overall performance of the model."
      ],
      "metadata": {
        "id": "SmXV7N0hJF6-"
      }
    },
    {
      "cell_type": "code",
      "source": [
        "# Calculate the confusion matrix\n",
        "confusion = confusion_matrix(y_test, model.predict(X_test))\n",
        "\n",
        "# Get the class labels\n",
        "class_labels = model.classes_\n",
        "\n",
        "# Create a DataFrame with the confusion matrix and class labels as columns and index\n",
        "confusion_df = pd.DataFrame(confusion, index=class_labels, columns=class_labels)\n",
        "\n",
        "# Plot the confusion matrix\n",
        "plt.figure(figsize=(10, 8))\n",
        "sns.heatmap(confusion_df, annot=True, fmt='d', cmap='Blues')\n",
        "plt.xlabel('Predicted Labels')\n",
        "plt.ylabel('True Labels')\n",
        "plt.title('Confusion Matrix')\n",
        "plt.show()\n"
      ],
      "metadata": {
        "id": "gkKRt1_ygzw0",
        "colab": {
          "base_uri": "https://localhost:8080/",
          "height": 718
        },
        "outputId": "3702237e-c506-4376-903e-c7e7a392634e"
      },
      "execution_count": null,
      "outputs": [
        {
          "output_type": "display_data",
          "data": {
            "text/plain": [
              "<Figure size 1000x800 with 2 Axes>"
            ],
            "image/png": "[encoded data removed]"
          },
          "metadata": {}
        }
      ]
    },
    {
      "cell_type": "markdown",
      "source": [
        "<h3>Observations on the Confusion matrix:</h3>\n",
        "\n",
        "In the confusion matrix, for the class \"CYT,\" the model has correctly classified all instances without any misclassifications. For the other classes, the model has achieved near-perfect or perfect classification, with high values on the diagonal representing correct predictions and zeros on the non-diagonal indicating no misclassifications. Overall, this pattern demonstrates the model's high accuracy and its ability to effectively distinguish between the different classes in the multi-class classification problem.\n",
        "\n",
        "\n",
        "<h2>Recommendation</h2>\n",
        "Based on the provided AUC values and classification reports, we can draw the following recommendations:\n",
        "\n",
        "1. Model Performance:\n",
        "   - Overall, the model demonstrates relatively good performance, with AUC values ranging from 0.87 to 1.00. AUC values closer to 1 indicate better discrimination ability for the respective classes.\n",
        "   - The classes with higher AUC values, such as ERL, ME1, ME3, MIT, and NUC, indicate that the model excels in distinguishing positive and negative instances for these classes. These classes are well-represented by the model's predictions.\n",
        "   - On the other hand, the class \"CYT\" and \"VAC\" have lower AUC values, suggesting that the model struggles more with distinguishing positive and negative instances for these classes. Further improvements can be made for these classes to enhance the model's performance.\n",
        "\n",
        "2. Class Imbalance:\n",
        "   - The classification reports highlight potential issues related to class imbalance. The class \"CYT\" has a very low recall value of 0.33, indicating that the model struggles to identify positive instances for this class. Class imbalance might be influencing the model's performance for this class.\n",
        "   - Similarly, the class \"VAC\" has relatively lower precision and recall values compared to other classes. Addressing the class imbalance, especially for these classes, can be beneficial to improve the model's performance.\n",
        "\n",
        "3. Model Generalization:\n",
        "   - The classification report for the test dataset shows slightly lower performance compared to the training dataset but not in class . This suggests the model may be slightly overfitting the training data and not generalizing as well to unseen data, particularly so for the CYT and VUC class . The reson could be the imblanced data Additional techniques such as regularization, cross-validation, or collecting more diverse data can help improve generalization. Collecting more data may also help. ( ERL had just 5 rows)\n",
        "\n",
        "4. Recommendations:\n",
        "   - Further investigate the class imbalance issue and consider employing techniques such as ensemble,feature/selection engineering , one class classification (restate the problem statement)  .\n",
        "   - Focus on improving performance for classes with lower AUC values, such as \"CYT\" and \"VAC.\" This can involve gathering more data for these classes or applying specific techniques to enhance their representation.\n",
        "   - Explore regularization techniques to mitigate overfitting and improve model generalization.\n",
        "   - Consider other cross-validation techniques such as Stratified K-Fold Cross-Validation,Leave-One-Out Cross-Validation (LOOCV), Shuffle-Split  to obtain a more reliable estimate of the model's performance and assess its stability across different data subsets.\n",
        "\n",
        "# **Overall**, **addressing the class imbalance, improving performance for specific classes, and enhancing model generalization are key recommendations to further improve the model's performance on this dataset.**\n",
        "\n"
      ],
      "metadata": {
        "id": "EHNx5-uvVQTL"
      }
    },
    {
      "cell_type": "code",
      "source": [],
      "metadata": {
        "id": "Nqc1kjNtgtDJ"
      },
      "execution_count": null,
      "outputs": []
    },
    {
      "cell_type": "code",
      "source": [],
      "metadata": {
        "id": "4BegryM7iuw_"
      },
      "execution_count": null,
      "outputs": []
    }
  ],
  "metadata": {
    "kernelspec": {
      "display_name": "Python 3",
      "name": "python3"
    },
    "language_info": {
      "name": "python"
    },
    "colab": {
      "provenance": [],
      "collapsed_sections": [
        "TBy5Vf8yhmck",
        "heHmQC7kaU16"
      ],
      "include_colab_link": true
    }
  },
  "nbformat": 4,
  "nbformat_minor": 0
}